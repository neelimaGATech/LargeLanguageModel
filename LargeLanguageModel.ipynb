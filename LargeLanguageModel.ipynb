{
 "cells": [
  {
   "cell_type": "markdown",
   "id": "debfda24-6dc2-4fb7-b7f2-14da85437bd8",
   "metadata": {},
   "source": [
    "# Large Language Model\n",
    "\n",
    "1. In this notebook I have implemented a large language model from scratch\n",
    "2. The code below follows following steps from a transformder architecture:\n",
    "    - Tokenize the training text input\n",
    "      \n",
    "  "
   ]
  },
  {
   "cell_type": "markdown",
   "id": "8a946ab6-4c8a-4cdc-9ce7-b170f5f742cd",
   "metadata": {},
   "source": [
    "## Preprocessing : Read and Process the Text, Convert to Tokens, Embed into the Vectors"
   ]
  },
  {
   "cell_type": "markdown",
   "id": "a2ec1520-a2b7-4031-a9c7-41228e4e88cb",
   "metadata": {},
   "source": [
    "## Step 1: Create Tokens from the text read from a book"
   ]
  },
  {
   "cell_type": "code",
   "execution_count": 83,
   "id": "8d031ab9-dcde-400f-8509-ce17ad8f9c21",
   "metadata": {},
   "outputs": [
    {
     "name": "stdout",
     "output_type": "stream",
     "text": [
      "Total characters read from book 20479\n",
      "I HAD always thought Jack Gisburn rather a cheap genius--though a good fellow enough--so it was no \n"
     ]
    }
   ],
   "source": [
    "with open(\"the-verdict.txt\", \"r\", encoding=\"utf-8\") as f:\n",
    "    raw_text = f.read()\n",
    "\n",
    "print(\"Total characters read from book\" , len(raw_text))\n",
    "# print the first 100 characters \n",
    "print(raw_text[:99])"
   ]
  },
  {
   "cell_type": "markdown",
   "id": "d7185f29-f064-4aa5-b5a9-19c7ebab5d93",
   "metadata": {},
   "source": [
    "### Tokenize all the text to be used for LLM model "
   ]
  },
  {
   "cell_type": "code",
   "execution_count": 84,
   "id": "d7c88f97-5e4c-47e7-91d9-fa0c9517f8fe",
   "metadata": {},
   "outputs": [
    {
     "name": "stdout",
     "output_type": "stream",
     "text": [
      "['Hello', ',', 'This', 'is', 'a', 'Test', 'to', 'split', 'words', 'from', 'a', 'large', 'text', '.', '--', 'Just', 'testing']\n"
     ]
    }
   ],
   "source": [
    "# Use Regular Expressions \n",
    "import re\n",
    "\n",
    "text = \"Hello, This is a Test to split words from a large text.-- Just testing\"\n",
    "#result = re.split(r'(\\s)', text)\n",
    "\n",
    "# split by all these characters \n",
    "result = re.split(r'([,.:;?_!\"()\\']|--|\\s)', text) \n",
    "\n",
    "# strip words of whitespaces and also remove whitespaces \n",
    "result = [item.strip() for item in result if item.strip()]\n",
    "print(result)"
   ]
  },
  {
   "cell_type": "code",
   "execution_count": 85,
   "id": "39cd55b6-5061-4631-ad34-58ec04d0a0bf",
   "metadata": {},
   "outputs": [
    {
     "name": "stdout",
     "output_type": "stream",
     "text": [
      "['I', 'HAD', 'always', 'thought', 'Jack', 'Gisburn', 'rather', 'a', 'cheap', 'genius', '--', 'though', 'a', 'good', 'fellow', 'enough', '--', 'so', 'it', 'was', 'no', 'great', 'surprise', 'to', 'me', 'to', 'hear', 'that', ',', 'in', 'the', 'height', 'of', 'his', 'glory', ',', 'he', 'had', 'dropped', 'his', 'painting', ',', 'married', 'a', 'rich', 'widow', ',', 'and', 'established', 'himself', 'in', 'a', 'villa', 'on', 'the', 'Riviera', '.', '(Though', 'I', 'rather', 'thought', 'it', 'would', 'have', 'been', 'Rome', 'or', 'Florence', '.', ')', '\"', 'The', 'height', 'of', 'his', 'glory', '\"', '--', 'that', 'was', 'what', 'the', 'women', 'called', 'it', '.', 'I', 'can', 'hear', 'Mrs', '.', 'Gideon', 'Thwing', '--', 'his', 'last', 'Chicago', 'sitter', '--']\n",
      "Total Tokens: 4685\n"
     ]
    }
   ],
   "source": [
    "# Apply the tokenizer code on entire raw text from the book\n",
    "preprocessed = re.split(r'([,.:;?_!\"\\']|--|\\s)', raw_text)\n",
    "\n",
    "preprocessed = [item.strip() for item in preprocessed if item.strip()]\n",
    "print(preprocessed[:99])\n",
    "print(\"Total Tokens:\", len(preprocessed))"
   ]
  },
  {
   "cell_type": "markdown",
   "id": "3f9c9ec1-acc0-43c8-9db1-85ec1079a17d",
   "metadata": {},
   "source": [
    "### Convert Tokens to Token IDs "
   ]
  },
  {
   "cell_type": "markdown",
   "id": "69a82e17-df1e-4123-b199-7fc784cc429a",
   "metadata": {},
   "source": [
    "- Build Vocabulary - list of all the unique tokens sorted alphabetically, give them unique indexes\n",
    "- Token id of any token is its inside the vocabulary built so far"
   ]
  },
  {
   "cell_type": "code",
   "execution_count": 86,
   "id": "487fa6ce-5462-41df-88b5-f50f544e668e",
   "metadata": {},
   "outputs": [
    {
     "name": "stdout",
     "output_type": "stream",
     "text": [
      "1131\n"
     ]
    }
   ],
   "source": [
    "# Convert preprocessed to a Set so all elements are unique and then sort it\n",
    "all_words = sorted(set(preprocessed))\n",
    "vocab_size = len(all_words)\n",
    "\n",
    "print(vocab_size)"
   ]
  },
  {
   "cell_type": "code",
   "execution_count": 87,
   "id": "403ade9e-8f8d-4813-adb8-06740a16e08f",
   "metadata": {},
   "outputs": [],
   "source": [
    "# Allocate an integer to the words \n",
    "# This is encoding words to number -- we woild need decoder to convert number to corresponding word\n",
    "vocab = {token:integer for integer,token in enumerate(all_words)}\n"
   ]
  },
  {
   "cell_type": "code",
   "execution_count": 88,
   "id": "553a8501-313b-4a59-898a-7903ee5c19df",
   "metadata": {},
   "outputs": [
    {
     "name": "stdout",
     "output_type": "stream",
     "text": [
      "('!', 0)\n",
      "('\"', 1)\n",
      "(\"'\", 2)\n",
      "('(I', 3)\n",
      "('(Though', 4)\n",
      "(')', 5)\n",
      "(',', 6)\n",
      "('--', 7)\n",
      "('.', 8)\n",
      "(':', 9)\n",
      "(';', 10)\n",
      "('?', 11)\n",
      "('A', 12)\n",
      "('Ah', 13)\n",
      "('Among', 14)\n",
      "('And', 15)\n",
      "('Are', 16)\n",
      "('Arrt', 17)\n",
      "('As', 18)\n",
      "('At', 19)\n",
      "('Be', 20)\n",
      "('Begin', 21)\n",
      "('Burlington', 22)\n",
      "('But', 23)\n",
      "('By', 24)\n",
      "('Carlo', 25)\n",
      "('Chicago', 26)\n",
      "('Claude', 27)\n",
      "('Come', 28)\n",
      "('Croft', 29)\n",
      "('Croft)', 30)\n",
      "('Destroyed', 31)\n",
      "('Devonshire', 32)\n",
      "('Don', 33)\n",
      "('Dubarry', 34)\n",
      "('Emperors', 35)\n",
      "('Florence', 36)\n",
      "('For', 37)\n",
      "('Gallery', 38)\n",
      "('Gideon', 39)\n",
      "('Gisburn', 40)\n",
      "('Gisburns', 41)\n",
      "('Grafton', 42)\n",
      "('Greek', 43)\n",
      "('Grindle', 44)\n",
      "('Grindles', 45)\n",
      "('HAD', 46)\n",
      "('Had', 47)\n",
      "('Hang', 48)\n",
      "('Has', 49)\n",
      "('He', 50)\n"
     ]
    }
   ],
   "source": [
    "for i, item in enumerate(vocab.items()):\n",
    "    print(item)\n",
    "    if i >= 50:\n",
    "        break;\n",
    "    "
   ]
  },
  {
   "cell_type": "code",
   "execution_count": 107,
   "id": "d90f9727-b905-4d11-8faa-b657052abcb1",
   "metadata": {},
   "outputs": [],
   "source": [
    "# Define an Tokenizer class to provide logic for Encoding and Decoding Text using provided Vocabulary\n",
    "# Constructor accepts a vocabulary - which is the dictionary storing the words we want to train on an numerical ids\n",
    "class SimpleTokenizerV1:\n",
    "    def __init__(self, vocab):\n",
    "        #class variable str_to_int would store vocabulary words with their token ids\n",
    "        self.str_to_int = vocab\n",
    "        #class variables int_to_str will store the mapping of token ids to strings - opposite of vocabulary\n",
    "        self.int_to_str = {i:s for s,i in vocab.items()}\n",
    "\n",
    "    # Use given vocabulary to store mapping of words to token ids (given in the vocabulary)\n",
    "    def encode(self, text):\n",
    "        preprocessed = re.split(r'([,.:;?_!\"()\\']|__|\\s)', text)\n",
    "        preprocessed = [ item.strip() for item in preprocessed if item.strip()\n",
    "        ]\n",
    "        # use the vocabulary - str to int dictionary to get list of all token ids\n",
    "        ids = [self.str_to_int[s] for s in preprocessed]\n",
    "        return ids\n",
    "\n",
    "    \n",
    "    def decode(self, ids):\n",
    "        text = \" \".join([self.int_to_str[i] for i in ids])\n",
    "\n",
    "        # remove spaces before every puctuations\n",
    "        text = re.sub(r'([,.:;?_!\"()\\']|__|\\s)', r'\\1', text)\n",
    "        return text.strip()\n",
    "        "
   ]
  },
  {
   "cell_type": "markdown",
   "id": "c8763836-6aba-4a8a-b73c-91b5a54f7cf9",
   "metadata": {},
   "source": [
    "## Instantiate Tokenizer"
   ]
  },
  {
   "cell_type": "code",
   "execution_count": 108,
   "id": "0e7e50fe-6adf-47d9-9eb3-d9ab3e621a1a",
   "metadata": {},
   "outputs": [
    {
     "name": "stdout",
     "output_type": "stream",
     "text": [
      "[1, 58, 585, 989, 603, 723, 146, 989, 43, 6, 1, 852, 534, 8]\n"
     ]
    }
   ],
   "source": [
    "tokenizer = SimpleTokenizerV1(vocab)\n",
    "\n",
    "#test the encoder\n",
    "text = \"\"\"\"It is the last of all the Greek,\" \n",
    "            said he. \"\"\"\n",
    "ids = tokenizer.encode(text)\n",
    "print(ids)"
   ]
  },
  {
   "cell_type": "code",
   "execution_count": 110,
   "id": "54be1899-99fe-462b-8a92-d79409f9faa7",
   "metadata": {},
   "outputs": [
    {
     "data": {
      "text/plain": [
       "'\" It is the last of all the Greek , \" said he .'"
      ]
     },
     "execution_count": 110,
     "metadata": {},
     "output_type": "execute_result"
    }
   ],
   "source": [
    "#test the decoder\n",
    "tokenizer.decode(ids)"
   ]
  },
  {
   "cell_type": "markdown",
   "id": "de9486bc-c817-4063-b216-3cbbb7c5b743",
   "metadata": {},
   "source": [
    "## Special Context Tokens to Handle Unknown Words in Dictionary and End of Text Token\n",
    "\n",
    "### End of Text tokens are embedded between texts from two different sources or unrelated texts."
   ]
  },
  {
   "cell_type": "code",
   "execution_count": 115,
   "id": "14aa5891-feff-4dd5-9ab9-5f05f05d33d4",
   "metadata": {},
   "outputs": [
    {
     "name": "stdout",
     "output_type": "stream",
     "text": [
      "1133\n"
     ]
    }
   ],
   "source": [
    "all_tokens = sorted(list(set(preprocessed)))\n",
    "all_tokens.extend([\"<|endoftext|>\", \"<|unk|>\"])\n",
    "\n",
    "vocab = {token:integer for integer,token in enumerate(all_tokens)}\n",
    "print(len(vocab.items()))"
   ]
  },
  {
   "cell_type": "code",
   "execution_count": 120,
   "id": "77833612-7ba8-429a-8deb-61ec4849a544",
   "metadata": {},
   "outputs": [
    {
     "data": {
      "text/plain": [
       "[('younger', 1128),\n",
       " ('your', 1129),\n",
       " ('yourself', 1130),\n",
       " ('<|endoftext|>', 1131),\n",
       " ('<|unk|>', 1132)]"
      ]
     },
     "execution_count": 120,
     "metadata": {},
     "output_type": "execute_result"
    }
   ],
   "source": [
    "list(vocab.items())[-5:]\n"
   ]
  },
  {
   "cell_type": "code",
   "execution_count": 121,
   "id": "dc137cc3-031c-4ed7-adbb-399e88eae3fe",
   "metadata": {},
   "outputs": [
    {
     "name": "stdout",
     "output_type": "stream",
     "text": [
      "('younger', 1128)\n",
      "('your', 1129)\n",
      "('yourself', 1130)\n",
      "('<|endoftext|>', 1131)\n",
      "('<|unk|>', 1132)\n"
     ]
    }
   ],
   "source": [
    "for i,item in enumerate(list(vocab.items())[-5:]):\n",
    "    print(item)"
   ]
  },
  {
   "cell_type": "code",
   "execution_count": 134,
   "id": "d3716e72-8a66-426c-8f9e-7069bdf8505f",
   "metadata": {},
   "outputs": [],
   "source": [
    "class SimpleTokenizerV2:\n",
    "    def __init__(self, vocab):\n",
    "        #class variable str_to_int would store vocabulary words with their token ids\n",
    "        self.str_to_int = vocab\n",
    "        #class variables int_to_str will store the mapping of token ids to strings - opposite of vocabulary\n",
    "        self.int_to_str = {i:s for s,i in vocab.items()}\n",
    "\n",
    "    # Use given vocabulary to store mapping of words to token ids (given in the vocabulary)\n",
    "    def encode(self, text):\n",
    "        preprocessed = re.split(r'([,.:;?_!\"()\\']|__|\\s)', text)\n",
    "        preprocessed = [item.strip() for item in preprocessed if item.strip()]\n",
    "        #print(self.str_to_int)\n",
    "        preprocessed = [\n",
    "            item if item in self.str_to_int\n",
    "            else \"<|unk|>\" for item in preprocessed \n",
    "        ]\n",
    "        \n",
    "        # use the vocabulary - str to int dictionary to get list of all token ids\n",
    "        ids = [self.str_to_int[s] for s in preprocessed]\n",
    "        return ids\n",
    "\n",
    "    \n",
    "    def decode(self, ids):\n",
    "        text = \" \".join([self.int_to_str[i] for i in ids])\n",
    "\n",
    "        # remove spaces before every puctuations\n",
    "        text = re.sub(r'([,.:;?_!\"()\\']|__|\\s)', r'\\1', text)\n",
    "        return text.strip()"
   ]
  },
  {
   "cell_type": "code",
   "execution_count": 135,
   "id": "5389d8cd-c4ff-4c3c-adcf-286e58d93bb7",
   "metadata": {},
   "outputs": [
    {
     "name": "stdout",
     "output_type": "stream",
     "text": [
      "Hello, do you like tea? <|endoftext|> In sunlit terraces of palace\n"
     ]
    }
   ],
   "source": [
    "# testing SimpleTokenizerV2\n",
    "tokenizer1 = SimpleTokenizerV2(vocab)\n",
    "\n",
    "text1 = \"Hello, do you like tea?\"\n",
    "text2 = \"In sunlit terraces of palace\"\n",
    "\n",
    "final_text = \" <|endoftext|> \".join((text1, text2))\n",
    "print(final_text)"
   ]
  },
  {
   "cell_type": "code",
   "execution_count": 136,
   "id": "227284a1-8350-440f-b6e4-aeb5f6285288",
   "metadata": {},
   "outputs": [
    {
     "name": "stdout",
     "output_type": "stream",
     "text": [
      "[1132, 6, 356, 1127, 629, 976, 11, 1131, 57, 957, 985, 723, 1132]\n"
     ]
    }
   ],
   "source": [
    "ids = tokenizer1.encode(final_text)\n",
    "print(ids)"
   ]
  },
  {
   "cell_type": "code",
   "execution_count": 137,
   "id": "e535e776-0bc2-4f86-bce1-69b4e88bf7a0",
   "metadata": {},
   "outputs": [
    {
     "data": {
      "text/plain": [
       "'<|unk|> , do you like tea ? <|endoftext|> In sunlit terraces of <|unk|>'"
      ]
     },
     "execution_count": 137,
     "metadata": {},
     "output_type": "execute_result"
    }
   ],
   "source": [
    "tokenizer1.decode(ids)\n",
    "\n"
   ]
  },
  {
   "cell_type": "markdown",
   "id": "495c6d95-d353-4edb-adc2-b8634eb32541",
   "metadata": {},
   "source": [
    "### Some additional tokens used during training of LLMs\n",
    "- [BOS] : Beginning of Sequence\n",
    "- [EOS] : End of Sequence\n",
    "- [PAD] : Padding for smaller batches when they are trained in parallel"
   ]
  },
  {
   "cell_type": "markdown",
   "id": "5d0f938e-d8c4-43cf-a454-a9b95e46f4f8",
   "metadata": {},
   "source": [
    "## Byte-Pair Encoding : Word can be broken into sub word tokens "
   ]
  },
  {
   "cell_type": "code",
   "execution_count": null,
   "id": "5f3138f8-bc74-4025-9904-9bc8f227f2f7",
   "metadata": {},
   "outputs": [],
   "source": []
  }
 ],
 "metadata": {
  "kernelspec": {
   "display_name": "Python 3 (ipykernel)",
   "language": "python",
   "name": "python3"
  },
  "language_info": {
   "codemirror_mode": {
    "name": "ipython",
    "version": 3
   },
   "file_extension": ".py",
   "mimetype": "text/x-python",
   "name": "python",
   "nbconvert_exporter": "python",
   "pygments_lexer": "ipython3",
   "version": "3.12.8"
  }
 },
 "nbformat": 4,
 "nbformat_minor": 5
}
